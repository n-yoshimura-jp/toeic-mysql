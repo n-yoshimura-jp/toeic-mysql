{
  "cells": [
    {
      "cell_type": "markdown",
      "id": "28e919db-dd11-4200-9255-40501308a8bb",
      "metadata": {
        "id": "28e919db-dd11-4200-9255-40501308a8bb"
      },
      "source": [
        "# PDFから英単語(TOEIC公開テスト出題)を抽出し、APIで意味を調べ、MySQLのテーブルにデータを追加する"
      ]
    },
    {
      "cell_type": "code",
      "execution_count": null,
      "id": "329597f9-b0a3-4f59-b23f-91bb0b9cf849",
      "metadata": {
        "tags": [],
        "id": "329597f9-b0a3-4f59-b23f-91bb0b9cf849"
      },
      "outputs": [],
      "source": [
        "# ライブラリをインポート\n",
        "import pdfplumber\n",
        "import re\n",
        "from pprint import pprint\n",
        "import requests\n",
        "import mysql.connector\n",
        "import os"
      ]
    },
    {
      "cell_type": "code",
      "execution_count": null,
      "id": "b6851d03-4480-41ab-9b25-b598880329cc",
      "metadata": {
        "id": "b6851d03-4480-41ab-9b25-b598880329cc"
      },
      "outputs": [],
      "source": [
        "# PDFファイル\n",
        "pdf_file = \"toeic_vocabulary.pdf\""
      ]
    },
    {
      "cell_type": "code",
      "execution_count": null,
      "id": "4aadfb1f-e26b-45f3-9f28-2709af8f31f1",
      "metadata": {
        "id": "4aadfb1f-e26b-45f3-9f28-2709af8f31f1"
      },
      "outputs": [],
      "source": [
        "# PDFファイルの読み込み\n",
        "with pdfplumber.open(pdf_file) as pdf:\n",
        "    # 全ページの取得\n",
        "    pages = pdf.pages\n",
        "\n",
        "    # 全ページのテキストを抽出\n",
        "    all_text = \"\"\n",
        "    for page in pages:\n",
        "        all_text += page.extract_text()"
      ]
    },
    {
      "cell_type": "code",
      "execution_count": null,
      "id": "9e1a7e5d-eefb-4201-b91d-e28e25eff6e8",
      "metadata": {
        "id": "9e1a7e5d-eefb-4201-b91d-e28e25eff6e8",
        "outputId": "674d2c10-a7b3-4f3a-d13e-92fedef409bc"
      },
      "outputs": [
        {
          "name": "stdout",
          "output_type": "stream",
          "text": [
            "Number of pages: 1\n"
          ]
        }
      ],
      "source": [
        "# ページ数を確認\n",
        "print(\"Number of pages:\", len(pages))"
      ]
    },
    {
      "cell_type": "code",
      "execution_count": null,
      "id": "f4cb312b-a10d-4a18-b226-2ffca63649df",
      "metadata": {
        "id": "f4cb312b-a10d-4a18-b226-2ffca63649df",
        "outputId": "b2330811-2dac-47b5-b11a-272afc695d16"
      },
      "outputs": [
        {
          "name": "stdout",
          "output_type": "stream",
          "text": [
            "■2024年の公開テストで実際に出題された単語\n",
            "・pursue\n",
            "・experienced\n",
            "・utensil\n",
            "・subsidiary\n",
            "・launch\n",
            "・verify\n",
            "・renovate\n",
            "・satisfactory\n",
            "・soar\n",
            "・rigorous\n"
          ]
        }
      ],
      "source": [
        "# 全テキストを出力\n",
        "print(all_text)"
      ]
    },
    {
      "cell_type": "code",
      "execution_count": null,
      "id": "df2643ca-7390-4928-b94c-b020110c5e9c",
      "metadata": {
        "tags": [],
        "id": "df2643ca-7390-4928-b94c-b020110c5e9c"
      },
      "outputs": [],
      "source": [
        "# 英単語を抽出する関数\n",
        "def extract_words(text):\n",
        "    words = re.findall(r\"[a-zA-Z]+\", text)\n",
        "    return words"
      ]
    },
    {
      "cell_type": "code",
      "execution_count": null,
      "id": "77e5ae3f-fc51-4fda-a4d3-d4133179bb3d",
      "metadata": {
        "tags": [],
        "id": "77e5ae3f-fc51-4fda-a4d3-d4133179bb3d"
      },
      "outputs": [],
      "source": [
        "# テキストから英単語を抽出\n",
        "words_list = extract_words(all_text)\n",
        "# 重複を除いてユニークな値のみをリストに追加\n",
        "words_list_unique_value = list(set(words_list))"
      ]
    },
    {
      "cell_type": "code",
      "execution_count": null,
      "id": "0a0e43a9-068a-457d-9e3b-9a45364a722d",
      "metadata": {
        "tags": [],
        "id": "0a0e43a9-068a-457d-9e3b-9a45364a722d",
        "outputId": "b19f05be-800f-470a-bf90-24b07da6fef9"
      },
      "outputs": [
        {
          "name": "stdout",
          "output_type": "stream",
          "text": [
            "['pursue', 'experienced', 'satisfactory', 'soar', 'utensil', 'subsidiary', 'rigorous', 'verify', 'launch', 'renovate']\n"
          ]
        }
      ],
      "source": [
        "# リストを確認\n",
        "print(words_list_unique_value)"
      ]
    },
    {
      "cell_type": "code",
      "execution_count": null,
      "id": "257f294c-7270-4327-a34f-4fd4e3a3fdc8",
      "metadata": {
        "tags": [],
        "id": "257f294c-7270-4327-a34f-4fd4e3a3fdc8"
      },
      "outputs": [],
      "source": [
        "# 英単語と意味を格納するリスト\n",
        "words_and_meanings = []"
      ]
    },
    {
      "cell_type": "code",
      "execution_count": null,
      "id": "de418ddf-27e8-44ff-900f-63abb3c7acec",
      "metadata": {
        "tags": [],
        "id": "de418ddf-27e8-44ff-900f-63abb3c7acec"
      },
      "outputs": [],
      "source": [
        "# 英単語と意味のタプルをリストに追加\n",
        "for word in words_list_unique_value:\n",
        "    # URL(APIのエンドポイント)\n",
        "    url = f\"https://api.dictionaryapi.dev/api/v2/entries/en/{word}\"\n",
        "    # データを取得\n",
        "    response = requests.get(url)\n",
        "    json_data = response.json()\n",
        "    # 意味を取得しリストに追加\n",
        "    meaning = json_data[0][\"meanings\"][0][\"definitions\"][0][\"definition\"]\n",
        "    word_and_meaning_tuple = (word, meaning)\n",
        "    words_and_meanings.append(word_and_meaning_tuple)"
      ]
    },
    {
      "cell_type": "code",
      "execution_count": null,
      "id": "3d7c204c-f4b2-4b4e-b854-8e18daee053c",
      "metadata": {
        "tags": [],
        "id": "3d7c204c-f4b2-4b4e-b854-8e18daee053c",
        "outputId": "ffe0f90d-c9dc-4164-aaba-9c09a2bfceb6"
      },
      "outputs": [
        {
          "name": "stdout",
          "output_type": "stream",
          "text": [
            "[('pursue',\n",
            "  'To follow urgently, originally with intent to capture or harm; to chase.'),\n",
            " ('experienced',\n",
            "  'To observe certain events; undergo a certain feeling or process; or perform '\n",
            "  \"certain actions that may alter one or contribute to one's knowledge, \"\n",
            "  'opinions, or skills.'),\n",
            " ('satisfactory', 'Done to satisfaction; adequate or sufficient.'),\n",
            " ('soar', 'The act of soaring.'),\n",
            " ('utensil',\n",
            "  'An instrument or device for domestic use, especially in the kitchen.'),\n",
            " ('subsidiary',\n",
            "  'A company owned by a parent company or a holding company, also called '\n",
            "  'daughter company or sister company.'),\n",
            " ('rigorous',\n",
            "  'Showing, causing, or favoring rigour; scrupulously accurate or strict; '\n",
            "  'thorough.'),\n",
            " ('verify', 'To substantiate or prove the truth of something'),\n",
            " ('launch',\n",
            "  'The movement of a vessel from land into the water; especially, the sliding '\n",
            "  'on ways from the stocks on which it is built. (Compare: to splash a ship.)'),\n",
            " ('renovate', 'To renew; to revamp something to make it look new again.')]\n"
          ]
        }
      ],
      "source": [
        "# リストを確認\n",
        "pprint(words_and_meanings)"
      ]
    },
    {
      "cell_type": "code",
      "execution_count": null,
      "id": "73aaa739-1260-468d-96cc-16bfd7bc796e",
      "metadata": {
        "id": "73aaa739-1260-468d-96cc-16bfd7bc796e"
      },
      "outputs": [],
      "source": [
        "# ホスト\n",
        "host = \"localhost\"\n",
        "\n",
        "# ユーザー名 (環境変数から取得)\n",
        "user = os.getenv(\"YOUR_USER_NAME\")\n",
        "\n",
        "# パスワード (環境変数から取得)\n",
        "password = os.getenv(\"YOUR_PASSWORD\")\n",
        "\n",
        "# データベース名\n",
        "db = \"your_database_name\""
      ]
    },
    {
      "cell_type": "code",
      "execution_count": null,
      "id": "7b302604-4380-4629-82fb-0b36289f8dc9",
      "metadata": {
        "tags": [],
        "id": "7b302604-4380-4629-82fb-0b36289f8dc9"
      },
      "outputs": [],
      "source": [
        "# MySQLに接続\n",
        "conn = mysql.connector.connect(\n",
        "    host=host,\n",
        "    user=user,\n",
        "    password=password,\n",
        "    database=db\n",
        ")"
      ]
    },
    {
      "cell_type": "code",
      "execution_count": null,
      "id": "7cdc0684-7150-473d-a655-adf81c6e3aa6",
      "metadata": {
        "tags": [],
        "id": "7cdc0684-7150-473d-a655-adf81c6e3aa6"
      },
      "outputs": [],
      "source": [
        "# カーソルを取得\n",
        "cursor = conn.cursor()"
      ]
    },
    {
      "cell_type": "code",
      "execution_count": null,
      "id": "e7c1accc-b6d5-49c1-82b9-923313af2a7a",
      "metadata": {
        "tags": [],
        "id": "e7c1accc-b6d5-49c1-82b9-923313af2a7a"
      },
      "outputs": [],
      "source": [
        "# SQL(insert文)\n",
        "base_sql = \"INSERT INTO toeic (word, meaning) VALUES (%s, %s)\"\n",
        "\n",
        "# バリュー\n",
        "values = words_and_meanings"
      ]
    },
    {
      "cell_type": "code",
      "execution_count": null,
      "id": "277a3f87-5732-4477-9ed4-3548ea87e862",
      "metadata": {
        "tags": [],
        "id": "277a3f87-5732-4477-9ed4-3548ea87e862"
      },
      "outputs": [],
      "source": [
        "# SQLを実行\n",
        "cursor.executemany(base_sql, values)"
      ]
    },
    {
      "cell_type": "code",
      "execution_count": null,
      "id": "f537f943-3caa-4fc5-b832-b2b4fbfd656d",
      "metadata": {
        "tags": [],
        "id": "f537f943-3caa-4fc5-b832-b2b4fbfd656d"
      },
      "outputs": [],
      "source": [
        "# コミット\n",
        "conn.commit()"
      ]
    },
    {
      "cell_type": "code",
      "execution_count": null,
      "id": "a6c0601c-c123-4109-a946-a81959c3f878",
      "metadata": {
        "tags": [],
        "id": "a6c0601c-c123-4109-a946-a81959c3f878",
        "outputId": "3761c5b0-2be1-47b9-86b9-24d03d53ecf7"
      },
      "outputs": [
        {
          "name": "stdout",
          "output_type": "stream",
          "text": [
            "10 record(s) inserted.\n"
          ]
        }
      ],
      "source": [
        "# 追加されたレコード数を確認\n",
        "print(cursor.rowcount, \"record(s) inserted.\")"
      ]
    },
    {
      "cell_type": "code",
      "execution_count": null,
      "id": "b721b928-fee3-49d3-b783-36495d0dd98f",
      "metadata": {
        "tags": [],
        "id": "b721b928-fee3-49d3-b783-36495d0dd98f"
      },
      "outputs": [],
      "source": [
        "# 接続をクローズ\n",
        "cursor.close()\n",
        "conn.close()"
      ]
    }
  ],
  "metadata": {
    "kernelspec": {
      "display_name": "Python 3 (ipykernel)",
      "language": "python",
      "name": "python3"
    },
    "language_info": {
      "codemirror_mode": {
        "name": "ipython",
        "version": 3
      },
      "file_extension": ".py",
      "mimetype": "text/x-python",
      "name": "python",
      "nbconvert_exporter": "python",
      "pygments_lexer": "ipython3",
      "version": "3.11.5"
    },
    "colab": {
      "provenance": []
    }
  },
  "nbformat": 4,
  "nbformat_minor": 5
}